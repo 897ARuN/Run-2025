{
 "cells": [
  {
   "cell_type": "code",
   "execution_count": 6,
   "id": "fce416cb",
   "metadata": {},
   "outputs": [],
   "source": [
    "import pandas as pd\n",
    "import numpy as np\n"
   ]
  },
  {
   "cell_type": "code",
   "execution_count": null,
   "id": "cdfbfce8",
   "metadata": {},
   "outputs": [],
   "source": [
    "#1. Make any python program on of your choise on notebook using atleast 3 user defined functions\n",
    "\n",
    "df = pd.DataFrame({'A': [10, 15], 'B': [5, 3]})\n",
    "df['Add'] = df['A'] + df['B']\n",
    "df['Multiply'] = df['A'] * df['B']\n",
    "df['A_is_even'] = df['A'] % 2 == 0\n",
    "df"
   ]
  },
  {
   "cell_type": "code",
   "execution_count": null,
   "id": "6b83486f",
   "metadata": {},
   "outputs": [],
   "source": [
    "#2. Make a series in which the index of the series is the square of the values\n",
    "\n",
    "\n",
    "values = [2, 4, 6, 8, 10]\n",
    "s = pd.Series(values, index=[x**2 for x in values])\n",
    "s"
   ]
  },
  {
   "cell_type": "code",
   "execution_count": null,
   "id": "aec5df08",
   "metadata": {},
   "outputs": [],
   "source": [
    "#3.Make a series of even numbers upto 50 using list comp..\n",
    "\n",
    "s = pd.Series(np.arange(1, 51)[np.arange(1, 51) % 2 == 0])\n",
    "s"
   ]
  }
 ],
 "metadata": {
  "kernelspec": {
   "display_name": "Python 3",
   "language": "python",
   "name": "python3"
  },
  "language_info": {
   "codemirror_mode": {
    "name": "ipython",
    "version": 3
   },
   "file_extension": ".py",
   "mimetype": "text/x-python",
   "name": "python",
   "nbconvert_exporter": "python",
   "pygments_lexer": "ipython3",
   "version": "3.13.5"
  }
 },
 "nbformat": 4,
 "nbformat_minor": 5
}
